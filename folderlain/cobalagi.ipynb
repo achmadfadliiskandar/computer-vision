{
 "cells": [
  {
   "cell_type": "code",
   "execution_count": 1,
   "metadata": {},
   "outputs": [
    {
     "name": "stdout",
     "output_type": "stream",
     "text": [
      "Defaulting to user installation because normal site-packages is not writeable\n",
      "Requirement already satisfied: vizro in /home/achmadfadli/.local/lib/python3.10/site-packages (0.1.39)\n",
      "Requirement already satisfied: plotly>=5.24.0 in /home/achmadfadli/.local/lib/python3.10/site-packages (from vizro) (6.1.1)\n",
      "Requirement already satisfied: black in /home/achmadfadli/.local/lib/python3.10/site-packages (from vizro) (25.1.0)\n",
      "Requirement already satisfied: autoflake in /home/achmadfadli/.local/lib/python3.10/site-packages (from vizro) (2.3.1)\n",
      "Requirement already satisfied: wrapt>=1 in /home/achmadfadli/.local/lib/python3.10/site-packages (from vizro) (1.17.2)\n",
      "Requirement already satisfied: dash-mantine-components>=1 in /home/achmadfadli/.local/lib/python3.10/site-packages (from vizro) (1.3.0)\n",
      "Requirement already satisfied: dash>=3 in /home/achmadfadli/.local/lib/python3.10/site-packages (from vizro) (3.0.4)\n",
      "Requirement already satisfied: pandas>=2 in /home/achmadfadli/.local/lib/python3.10/site-packages (from vizro) (2.2.3)\n",
      "Requirement already satisfied: pydantic>=2.7.0 in /home/achmadfadli/.local/lib/python3.10/site-packages (from vizro) (2.11.5)\n",
      "Requirement already satisfied: flask-caching>=2 in /home/achmadfadli/.local/lib/python3.10/site-packages (from vizro) (2.3.1)\n",
      "Requirement already satisfied: dash-bootstrap-components>=2 in /home/achmadfadli/.local/lib/python3.10/site-packages (from vizro) (2.0.3)\n",
      "Requirement already satisfied: dash-ag-grid>=31.3.1 in /home/achmadfadli/.local/lib/python3.10/site-packages (from vizro) (31.3.1)\n",
      "Requirement already satisfied: packaging in /home/achmadfadli/.local/lib/python3.10/site-packages (from vizro) (24.2)\n",
      "Requirement already satisfied: importlib-metadata in /usr/lib/python3/dist-packages (from dash>=3->vizro) (4.6.4)\n",
      "Requirement already satisfied: retrying in /home/achmadfadli/.local/lib/python3.10/site-packages (from dash>=3->vizro) (1.3.4)\n",
      "Requirement already satisfied: setuptools in /usr/lib/python3/dist-packages (from dash>=3->vizro) (59.6.0)\n",
      "Requirement already satisfied: nest-asyncio in /home/achmadfadli/.local/lib/python3.10/site-packages (from dash>=3->vizro) (1.6.0)\n",
      "Requirement already satisfied: Flask<3.1,>=1.0.4 in /home/achmadfadli/.local/lib/python3.10/site-packages (from dash>=3->vizro) (3.0.3)\n",
      "Requirement already satisfied: typing-extensions>=4.1.1 in /home/achmadfadli/.local/lib/python3.10/site-packages (from dash>=3->vizro) (4.13.2)\n",
      "Requirement already satisfied: requests in /home/achmadfadli/.local/lib/python3.10/site-packages (from dash>=3->vizro) (2.32.3)\n",
      "Requirement already satisfied: Werkzeug<3.1 in /home/achmadfadli/.local/lib/python3.10/site-packages (from dash>=3->vizro) (3.0.3)\n",
      "Requirement already satisfied: cachelib>=0.9.0 in /home/achmadfadli/.local/lib/python3.10/site-packages (from flask-caching>=2->vizro) (0.13.0)\n",
      "Requirement already satisfied: python-dateutil>=2.8.2 in /home/achmadfadli/.local/lib/python3.10/site-packages (from pandas>=2->vizro) (2.9.0.post0)\n",
      "Requirement already satisfied: pytz>=2020.1 in /usr/lib/python3/dist-packages (from pandas>=2->vizro) (2022.1)\n",
      "Requirement already satisfied: tzdata>=2022.7 in /home/achmadfadli/.local/lib/python3.10/site-packages (from pandas>=2->vizro) (2025.1)\n",
      "Requirement already satisfied: numpy>=1.22.4 in /home/achmadfadli/.local/lib/python3.10/site-packages (from pandas>=2->vizro) (1.26.4)\n",
      "Requirement already satisfied: narwhals>=1.15.1 in /home/achmadfadli/.local/lib/python3.10/site-packages (from plotly>=5.24.0->vizro) (1.40.0)\n",
      "Requirement already satisfied: pydantic-core==2.33.2 in /home/achmadfadli/.local/lib/python3.10/site-packages (from pydantic>=2.7.0->vizro) (2.33.2)\n",
      "Requirement already satisfied: typing-inspection>=0.4.0 in /home/achmadfadli/.local/lib/python3.10/site-packages (from pydantic>=2.7.0->vizro) (0.4.1)\n",
      "Requirement already satisfied: annotated-types>=0.6.0 in /home/achmadfadli/.local/lib/python3.10/site-packages (from pydantic>=2.7.0->vizro) (0.7.0)\n",
      "Requirement already satisfied: tomli>=2.0.1 in /home/achmadfadli/.local/lib/python3.10/site-packages (from autoflake->vizro) (2.0.1)\n",
      "Requirement already satisfied: pyflakes>=3.0.0 in /home/achmadfadli/.local/lib/python3.10/site-packages (from autoflake->vizro) (3.3.2)\n",
      "Requirement already satisfied: click>=8.0.0 in /home/achmadfadli/.local/lib/python3.10/site-packages (from black->vizro) (8.1.7)\n",
      "Requirement already satisfied: platformdirs>=2 in /home/achmadfadli/.local/lib/python3.10/site-packages (from black->vizro) (4.1.0)\n",
      "Requirement already satisfied: pathspec>=0.9.0 in /home/achmadfadli/.local/lib/python3.10/site-packages (from black->vizro) (0.12.1)\n",
      "Requirement already satisfied: mypy-extensions>=0.4.3 in /home/achmadfadli/.local/lib/python3.10/site-packages (from black->vizro) (1.1.0)\n",
      "Requirement already satisfied: blinker>=1.6.2 in /home/achmadfadli/.local/lib/python3.10/site-packages (from Flask<3.1,>=1.0.4->dash>=3->vizro) (1.8.2)\n",
      "Requirement already satisfied: itsdangerous>=2.1.2 in /home/achmadfadli/.local/lib/python3.10/site-packages (from Flask<3.1,>=1.0.4->dash>=3->vizro) (2.2.0)\n",
      "Requirement already satisfied: Jinja2>=3.1.2 in /home/achmadfadli/.local/lib/python3.10/site-packages (from Flask<3.1,>=1.0.4->dash>=3->vizro) (3.1.4)\n",
      "Requirement already satisfied: six>=1.5 in /usr/lib/python3/dist-packages (from python-dateutil>=2.8.2->pandas>=2->vizro) (1.16.0)\n",
      "Requirement already satisfied: MarkupSafe>=2.1.1 in /home/achmadfadli/.local/lib/python3.10/site-packages (from Werkzeug<3.1->dash>=3->vizro) (2.1.5)\n",
      "Requirement already satisfied: charset-normalizer<4,>=2 in /home/achmadfadli/.local/lib/python3.10/site-packages (from requests->dash>=3->vizro) (3.4.1)\n",
      "Requirement already satisfied: urllib3<3,>=1.21.1 in /home/achmadfadli/.local/lib/python3.10/site-packages (from requests->dash>=3->vizro) (2.3.0)\n",
      "Requirement already satisfied: idna<4,>=2.5 in /usr/lib/python3/dist-packages (from requests->dash>=3->vizro) (3.3)\n",
      "Requirement already satisfied: certifi>=2017.4.17 in /usr/lib/python3/dist-packages (from requests->dash>=3->vizro) (2020.6.20)\n",
      "Note: you may need to restart the kernel to use updated packages.\n"
     ]
    }
   ],
   "source": [
    "pip install vizro"
   ]
  },
  {
   "cell_type": "code",
   "execution_count": 2,
   "metadata": {},
   "outputs": [
    {
     "data": {
      "text/html": [
       "\n",
       "        <iframe\n",
       "            width=\"100%\"\n",
       "            height=\"650\"\n",
       "            src=\"http://127.0.0.1:8050/\"\n",
       "            frameborder=\"0\"\n",
       "            allowfullscreen\n",
       "            \n",
       "        ></iframe>\n",
       "        "
      ],
      "text/plain": [
       "<IPython.lib.display.IFrame at 0x7b9eea5d5de0>"
      ]
     },
     "metadata": {},
     "output_type": "display_data"
    }
   ],
   "source": [
    "import vizro.plotly.express as px\n",
    "from vizro import Vizro\n",
    "import vizro.models as vm\n",
    "\n",
    "df = px.data.iris()\n",
    "\n",
    "page = vm.Page(\n",
    "    title=\"My first dashboard\",\n",
    "    components=[\n",
    "        vm.Graph(figure=px.scatter(df, x=\"sepal_length\", y=\"petal_width\", color=\"species\")),\n",
    "        vm.Graph(figure=px.histogram(df, x=\"sepal_width\", color=\"species\"))],\n",
    "    controls=[\n",
    "        vm.Filter(column=\"species\"),\n",
    "    ],\n",
    ")\n",
    "\n",
    "dashboard = vm.Dashboard(pages=[page])\n",
    "Vizro().build(dashboard).run()"
   ]
  },
  {
   "cell_type": "code",
   "execution_count": 7,
   "metadata": {},
   "outputs": [
    {
     "name": "stdout",
     "output_type": "stream",
     "text": [
      "Defaulting to user installation because normal site-packages is not writeable\n",
      "\u001b[31mERROR: Could not find a version that satisfies the requirement Vizro.plotly (from versions: none)\u001b[0m\u001b[31m\n",
      "\u001b[0m\u001b[31mERROR: No matching distribution found for Vizro.plotly\u001b[0m\u001b[31m\n",
      "\u001b[0mNote: you may need to restart the kernel to use updated packages.\n"
     ]
    }
   ],
   "source": [
    "pip install Vizro.plotly"
   ]
  }
 ],
 "metadata": {
  "kernelspec": {
   "display_name": "Python 3",
   "language": "python",
   "name": "python3"
  },
  "language_info": {
   "codemirror_mode": {
    "name": "ipython",
    "version": 3
   },
   "file_extension": ".py",
   "mimetype": "text/x-python",
   "name": "python",
   "nbconvert_exporter": "python",
   "pygments_lexer": "ipython3",
   "version": "3.10.12"
  }
 },
 "nbformat": 4,
 "nbformat_minor": 2
}
