{
 "cells": [
  {
   "cell_type": "code",
   "execution_count": 1,
   "metadata": {},
   "outputs": [
    {
     "name": "stdout",
     "output_type": "stream",
     "text": [
      "Defaulting to user installation because normal site-packages is not writeable\n",
      "Requirement already satisfied: vizro in /home/achmadfadli/.local/lib/python3.10/site-packages (0.1.39)\n",
      "Requirement already satisfied: packaging in /home/achmadfadli/.local/lib/python3.10/site-packages (from vizro) (24.2)\n",
      "Requirement already satisfied: plotly>=5.24.0 in /home/achmadfadli/.local/lib/python3.10/site-packages (from vizro) (6.1.1)\n",
      "Requirement already satisfied: dash-ag-grid>=31.3.1 in /home/achmadfadli/.local/lib/python3.10/site-packages (from vizro) (31.3.1)\n",
      "Requirement already satisfied: dash>=3 in /home/achmadfadli/.local/lib/python3.10/site-packages (from vizro) (3.0.4)\n",
      "Requirement already satisfied: pandas>=2 in /home/achmadfadli/.local/lib/python3.10/site-packages (from vizro) (2.2.3)\n",
      "Requirement already satisfied: pydantic>=2.7.0 in /home/achmadfadli/.local/lib/python3.10/site-packages (from vizro) (2.11.5)\n",
      "Requirement already satisfied: black in /home/achmadfadli/.local/lib/python3.10/site-packages (from vizro) (25.1.0)\n",
      "Requirement already satisfied: wrapt>=1 in /home/achmadfadli/.local/lib/python3.10/site-packages (from vizro) (1.17.2)\n",
      "Requirement already satisfied: dash-bootstrap-components>=2 in /home/achmadfadli/.local/lib/python3.10/site-packages (from vizro) (2.0.3)\n",
      "Requirement already satisfied: autoflake in /home/achmadfadli/.local/lib/python3.10/site-packages (from vizro) (2.3.1)\n",
      "Requirement already satisfied: flask-caching>=2 in /home/achmadfadli/.local/lib/python3.10/site-packages (from vizro) (2.3.1)\n",
      "Requirement already satisfied: dash-mantine-components>=1 in /home/achmadfadli/.local/lib/python3.10/site-packages (from vizro) (1.3.0)\n",
      "Requirement already satisfied: Flask<3.1,>=1.0.4 in /home/achmadfadli/.local/lib/python3.10/site-packages (from dash>=3->vizro) (3.0.3)\n",
      "Requirement already satisfied: requests in /home/achmadfadli/.local/lib/python3.10/site-packages (from dash>=3->vizro) (2.32.3)\n",
      "Requirement already satisfied: setuptools in /usr/lib/python3/dist-packages (from dash>=3->vizro) (59.6.0)\n",
      "Requirement already satisfied: Werkzeug<3.1 in /home/achmadfadli/.local/lib/python3.10/site-packages (from dash>=3->vizro) (3.0.3)\n",
      "Requirement already satisfied: retrying in /home/achmadfadli/.local/lib/python3.10/site-packages (from dash>=3->vizro) (1.3.4)\n",
      "Requirement already satisfied: importlib-metadata in /usr/lib/python3/dist-packages (from dash>=3->vizro) (4.6.4)\n",
      "Requirement already satisfied: nest-asyncio in /home/achmadfadli/.local/lib/python3.10/site-packages (from dash>=3->vizro) (1.6.0)\n",
      "Requirement already satisfied: typing-extensions>=4.1.1 in /home/achmadfadli/.local/lib/python3.10/site-packages (from dash>=3->vizro) (4.13.2)\n",
      "Requirement already satisfied: cachelib>=0.9.0 in /home/achmadfadli/.local/lib/python3.10/site-packages (from flask-caching>=2->vizro) (0.13.0)\n",
      "Requirement already satisfied: python-dateutil>=2.8.2 in /home/achmadfadli/.local/lib/python3.10/site-packages (from pandas>=2->vizro) (2.9.0.post0)\n",
      "Requirement already satisfied: tzdata>=2022.7 in /home/achmadfadli/.local/lib/python3.10/site-packages (from pandas>=2->vizro) (2025.1)\n",
      "Requirement already satisfied: pytz>=2020.1 in /usr/lib/python3/dist-packages (from pandas>=2->vizro) (2022.1)\n",
      "Requirement already satisfied: numpy>=1.22.4 in /home/achmadfadli/.local/lib/python3.10/site-packages (from pandas>=2->vizro) (1.26.4)\n",
      "Requirement already satisfied: narwhals>=1.15.1 in /home/achmadfadli/.local/lib/python3.10/site-packages (from plotly>=5.24.0->vizro) (1.40.0)\n",
      "Requirement already satisfied: typing-inspection>=0.4.0 in /home/achmadfadli/.local/lib/python3.10/site-packages (from pydantic>=2.7.0->vizro) (0.4.1)\n",
      "Requirement already satisfied: annotated-types>=0.6.0 in /home/achmadfadli/.local/lib/python3.10/site-packages (from pydantic>=2.7.0->vizro) (0.7.0)\n",
      "Requirement already satisfied: pydantic-core==2.33.2 in /home/achmadfadli/.local/lib/python3.10/site-packages (from pydantic>=2.7.0->vizro) (2.33.2)\n",
      "Requirement already satisfied: pyflakes>=3.0.0 in /home/achmadfadli/.local/lib/python3.10/site-packages (from autoflake->vizro) (3.3.2)\n",
      "Requirement already satisfied: tomli>=2.0.1 in /home/achmadfadli/.local/lib/python3.10/site-packages (from autoflake->vizro) (2.0.1)\n",
      "Requirement already satisfied: platformdirs>=2 in /home/achmadfadli/.local/lib/python3.10/site-packages (from black->vizro) (4.1.0)\n",
      "Requirement already satisfied: click>=8.0.0 in /home/achmadfadli/.local/lib/python3.10/site-packages (from black->vizro) (8.1.7)\n",
      "Requirement already satisfied: pathspec>=0.9.0 in /home/achmadfadli/.local/lib/python3.10/site-packages (from black->vizro) (0.12.1)\n",
      "Requirement already satisfied: mypy-extensions>=0.4.3 in /home/achmadfadli/.local/lib/python3.10/site-packages (from black->vizro) (1.1.0)\n",
      "Requirement already satisfied: blinker>=1.6.2 in /home/achmadfadli/.local/lib/python3.10/site-packages (from Flask<3.1,>=1.0.4->dash>=3->vizro) (1.8.2)\n",
      "Requirement already satisfied: Jinja2>=3.1.2 in /home/achmadfadli/.local/lib/python3.10/site-packages (from Flask<3.1,>=1.0.4->dash>=3->vizro) (3.1.4)\n",
      "Requirement already satisfied: itsdangerous>=2.1.2 in /home/achmadfadli/.local/lib/python3.10/site-packages (from Flask<3.1,>=1.0.4->dash>=3->vizro) (2.2.0)\n",
      "Requirement already satisfied: six>=1.5 in /usr/lib/python3/dist-packages (from python-dateutil>=2.8.2->pandas>=2->vizro) (1.16.0)\n",
      "Requirement already satisfied: MarkupSafe>=2.1.1 in /home/achmadfadli/.local/lib/python3.10/site-packages (from Werkzeug<3.1->dash>=3->vizro) (2.1.5)\n",
      "Requirement already satisfied: certifi>=2017.4.17 in /usr/lib/python3/dist-packages (from requests->dash>=3->vizro) (2020.6.20)\n",
      "Requirement already satisfied: idna<4,>=2.5 in /usr/lib/python3/dist-packages (from requests->dash>=3->vizro) (3.3)\n",
      "Requirement already satisfied: charset-normalizer<4,>=2 in /home/achmadfadli/.local/lib/python3.10/site-packages (from requests->dash>=3->vizro) (3.4.1)\n",
      "Requirement already satisfied: urllib3<3,>=1.21.1 in /home/achmadfadli/.local/lib/python3.10/site-packages (from requests->dash>=3->vizro) (2.3.0)\n",
      "Note: you may need to restart the kernel to use updated packages.\n"
     ]
    }
   ],
   "source": [
    "pip install vizro"
   ]
  },
  {
   "cell_type": "code",
   "execution_count": 1,
   "metadata": {},
   "outputs": [
    {
     "name": "stderr",
     "output_type": "stream",
     "text": [
      "/tmp/ipykernel_47991/1694547708.py:45: FutureWarning:\n",
      "\n",
      "The `Layout` model has been renamed `Grid`, and `Layout` will no longer exist in Vizro 0.2.0. To ensure future compatibility, replace your references to `vm.Layout` with `vm.Grid`.\n",
      "\n",
      "/home/achmadfadli/.local/lib/python3.10/site-packages/vizro/models/_components/graph.py:195: UserWarning:\n",
      "\n",
      "Using the `title` argument in your Plotly chart function may cause misalignment with other component titles on the screen. To ensure consistent alignment, consider using `vm.Graph(title='Title', ...)`.\n",
      "\n"
     ]
    },
    {
     "data": {
      "text/html": [
       "\n",
       "        <iframe\n",
       "            width=\"100%\"\n",
       "            height=\"650\"\n",
       "            src=\"http://127.0.0.1:8050/\"\n",
       "            frameborder=\"0\"\n",
       "            allowfullscreen\n",
       "            \n",
       "        ></iframe>\n",
       "        "
      ],
      "text/plain": [
       "<IPython.lib.display.IFrame at 0x731847afda50>"
      ]
     },
     "metadata": {},
     "output_type": "display_data"
    }
   ],
   "source": [
    "import pandas as pd\n",
    "import vizro.plotly.express as px  # Gunakan vizro.plotly.express, bukan plotly.express\n",
    "import vizro.models as vm\n",
    "from vizro import Vizro\n",
    "\n",
    "# Reset status Vizro untuk menghindari konflik ID\n",
    "Vizro._reset()\n",
    "\n",
    "# Contoh dataset\n",
    "data = {\n",
    "    \"Program\": [\"Promotif\", \"Preventif\", \"Kuratif\", \"Rehabilitatif\"],\n",
    "    \"Anggaran_Direncanakan\": [500000000, 300000000, 400000000, 200000000],\n",
    "    \"Anggaran_Terealisasi\": [450000000, 280000000, 360000000, 180000000]\n",
    "}\n",
    "df = pd.DataFrame(data)\n",
    "\n",
    "# Pembersihan data\n",
    "df = df.dropna()  # Hapus baris dengan nilai kosong\n",
    "df[\"Program\"] = df[\"Program\"].astype(str)  # Pastikan kolom Program bertipe string\n",
    "df[\"Anggaran_Direncanakan\"] = df[\"Anggaran_Direncanakan\"].astype(float)\n",
    "df[\"Anggaran_Terealisasi\"] = df[\"Anggaran_Terealisasi\"].astype(float)\n",
    "df = df[df[\"Anggaran_Direncanakan\"] > 0]  # Hapus anggaran tidak valid\n",
    "df[\"Efektivitas\"] = (df[\"Anggaran_Terealisasi\"] / df[\"Anggaran_Direncanakan\"] * 100).round(2)\n",
    "\n",
    "# Buat grafik menggunakan vizro.plotly.express\n",
    "bar_fig = px.bar(\n",
    "    df,\n",
    "    x=\"Program\",\n",
    "    y=[\"Anggaran_Direncanakan\", \"Anggaran_Terealisasi\"],\n",
    "    barmode=\"group\",\n",
    "    title=\"Perbandingan Anggaran Direncanakan vs. Terealisasi\",\n",
    "    labels={\"value\": \"Anggaran (Rp)\", \"Program\": \"Jenis Program\"}\n",
    ")\n",
    "pie_fig = px.pie(\n",
    "    df,\n",
    "    names=\"Program\",\n",
    "    values=\"Efektivitas\",\n",
    "    title=\"Efektivitas Realisasi Anggaran per Program\"\n",
    ")\n",
    "\n",
    "# Definisikan halaman dashboard\n",
    "page = vm.Page(\n",
    "    id=\"dashboard_anggaran_puskesmas\",\n",
    "    title=\"Dashboard Analisis Efektivitas Anggaran Puskesmas\",\n",
    "    layout=vm.Layout(grid=[[0, 0], [1, 2]]),  # Tata letak: 1 baris untuk header, 2 kolom untuk grafik\n",
    "    components=[\n",
    "        vm.Card(\n",
    "            text=\"### Analisis Efektivitas Anggaran Puskesmas\\nVisualisasi data anggaran berdasarkan jenis program.\",\n",
    "            id=\"header_card_unique\"\n",
    "        ),\n",
    "        vm.Graph(id=\"budget_bar_chart_unique\", figure=bar_fig),\n",
    "        vm.Graph(id=\"effectiveness_pie_chart_unique\", figure=pie_fig),\n",
    "    ],\n",
    "    controls=[\n",
    "        vm.Filter(\n",
    "            column=\"Program\",\n",
    "            selector=vm.Dropdown(\n",
    "                id=\"program_filter_unique\",\n",
    "                options=df[\"Program\"].tolist(),\n",
    "                multi=True,\n",
    "                title=\"Pilih Jenis Program\"\n",
    "            )\n",
    "        )\n",
    "    ]\n",
    ")\n",
    "\n",
    "# Buat dan jalankan dashboard\n",
    "dashboard = vm.Dashboard(pages=[page])\n",
    "Vizro().build(dashboard).run(theme=\"vizro_light\")"
   ]
  }
 ],
 "metadata": {
  "kernelspec": {
   "display_name": "Python 3",
   "language": "python",
   "name": "python3"
  },
  "language_info": {
   "codemirror_mode": {
    "name": "ipython",
    "version": 3
   },
   "file_extension": ".py",
   "mimetype": "text/x-python",
   "name": "python",
   "nbconvert_exporter": "python",
   "pygments_lexer": "ipython3",
   "version": "3.10.12"
  }
 },
 "nbformat": 4,
 "nbformat_minor": 2
}
